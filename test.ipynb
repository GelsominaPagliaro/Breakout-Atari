{
 "cells": [
  {
   "cell_type": "markdown",
   "metadata": {},
   "source": [
    "# Test"
   ]
  },
  {
   "cell_type": "code",
   "execution_count": 51,
   "metadata": {},
   "outputs": [],
   "source": [
    "import torch\n",
    "import os\n",
    "\n",
    "from breakout import DQNBreakout\n",
    "from model import AtariNet\n",
    "from agent import Agent\n",
    "\n",
    "import numpy as np\n",
    "from PIL import Image\n",
    "from IPython.display import Image as IPImage, display\n",
    "from IPython.display import HTML"
   ]
  },
  {
   "cell_type": "code",
   "execution_count": 35,
   "metadata": {},
   "outputs": [
    {
     "name": "stdout",
     "output_type": "stream",
     "text": [
      "cpu\n",
      "Successfully loaded weights file C:/Users/Lenovo/Documents/Deep learning/models/model_iter_14000.pt\n"
     ]
    },
    {
     "name": "stderr",
     "output_type": "stream",
     "text": [
      "c:\\Users\\Lenovo\\Documents\\Deep learning\\model.py:57: FutureWarning: You are using `torch.load` with `weights_only=False` (the current default value), which uses the default pickle module implicitly. It is possible to construct malicious pickle data which will execute arbitrary code during unpickling (See https://github.com/pytorch/pytorch/blob/main/SECURITY.md#untrusted-models for more details). In a future release, the default value for `weights_only` will be flipped to `True`. This limits the functions that could be executed during unpickling. Arbitrary objects will no longer be allowed to be loaded via this mode unless they are explicitly allowlisted by the user via `torch.serialization.add_safe_globals`. We recommend you start setting `weights_only=True` for any use case where you don't have full control of the loaded file. Please open an issue on GitHub for any issues related to this experimental feature.\n",
      "  model = torch.load(weights_filename, map_location=torch.device('cpu'))\n"
     ]
    }
   ],
   "source": [
    "os.environ[\"KMP_DUPLICATE_LIB_OK\"] = \"TRUE\"\n",
    "\n",
    "device = torch.device(\"cuda:0\" if torch.cuda.is_available() else \"cpu\")\n",
    "print(device)\n",
    "\n",
    "environment = DQNBreakout(device=device, render_mode='human')\n",
    "\n",
    "model = AtariNet(nb_actions=4)\n",
    "model.to(device)\n",
    "model.load_the_model(\"C:/Users/Lenovo/Documents/Deep learning/models/model_iter_14000.pt\")\n",
    "\n",
    "agent = Agent(model=model,\n",
    "              device=device,\n",
    "              epsilon=0\n",
    "              )\n"
   ]
  },
  {
   "cell_type": "code",
   "execution_count": 36,
   "metadata": {},
   "outputs": [
    {
     "name": "stderr",
     "output_type": "stream",
     "text": [
      "c:\\Users\\Lenovo\\anaconda3\\envs\\mina\\Lib\\site-packages\\gym\\utils\\passive_env_checker.py:233: DeprecationWarning: `np.bool8` is a deprecated alias for `np.bool_`.  (Deprecated NumPy 1.24)\n",
      "  if not isinstance(terminated, (bool, np.bool8)):\n"
     ]
    }
   ],
   "source": [
    "episode = agent.test(env=environment)"
   ]
  },
  {
   "cell_type": "code",
   "execution_count": 49,
   "metadata": {},
   "outputs": [],
   "source": [
    "def create_gif_from_episode(episode, gif_filename=\"episode.gif\", duration=0.1):\n",
    "\n",
    "    frames = []\n",
    "\n",
    "    for state in episode:\n",
    "        \n",
    "        frame = state.numpy().squeeze()  \n",
    "\n",
    "        frame = (frame - frame.min()) / (frame.max() - frame.min() + 1e-8)  \n",
    "        frame = (frame * 255).astype(np.uint8)\n",
    "\n",
    "        img = Image.fromarray(frame)\n",
    "        frames.append(img)\n",
    "\n",
    "    frames[0].save(\n",
    "        gif_filename,\n",
    "        save_all=True,\n",
    "        append_images=frames[1:],  \n",
    "        duration=duration * 1000,  \n",
    "        loop=0  \n",
    "    )\n",
    "\n",
    "    display(HTML(f'<img src=\"{gif_filename}\" width=\"{400}px\">'))"
   ]
  },
  {
   "cell_type": "code",
   "execution_count": 50,
   "metadata": {},
   "outputs": [
    {
     "data": {
      "text/html": [
       "<img src=\"episode.gif\" width=\"400px\">"
      ],
      "text/plain": [
       "<IPython.core.display.HTML object>"
      ]
     },
     "metadata": {},
     "output_type": "display_data"
    }
   ],
   "source": [
    "create_gif_from_episode(episode)"
   ]
  }
 ],
 "metadata": {
  "kernelspec": {
   "display_name": "mina",
   "language": "python",
   "name": "python3"
  },
  "language_info": {
   "codemirror_mode": {
    "name": "ipython",
    "version": 3
   },
   "file_extension": ".py",
   "mimetype": "text/x-python",
   "name": "python",
   "nbconvert_exporter": "python",
   "pygments_lexer": "ipython3",
   "version": "3.11.3"
  }
 },
 "nbformat": 4,
 "nbformat_minor": 2
}
