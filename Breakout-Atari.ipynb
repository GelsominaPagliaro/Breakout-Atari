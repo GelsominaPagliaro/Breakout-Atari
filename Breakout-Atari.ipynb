{
 "cells": [
  {
   "cell_type": "markdown",
   "metadata": {},
   "source": [
    "# Breakout Enviroment"
   ]
  },
  {
   "cell_type": "code",
   "execution_count": 1,
   "metadata": {},
   "outputs": [],
   "source": [
    "import gym\n",
    "import matplotlib.pyplot as plt\n",
    "from IPython.display import clear_output\n",
    "import os"
   ]
  },
  {
   "cell_type": "code",
   "execution_count": null,
   "metadata": {},
   "outputs": [],
   "source": [
    "env = gym.make('BreakoutNoFrameskip-v4', render_mode='rgb_array')"
   ]
  },
  {
   "cell_type": "markdown",
   "metadata": {},
   "source": [
    "### Initial State"
   ]
  },
  {
   "cell_type": "code",
   "execution_count": 33,
   "metadata": {},
   "outputs": [
    {
     "data": {
      "image/png": "[encoded data removed]",
      "text/plain": [
       "<Figure size 400x600 with 1 Axes>"
      ]
     },
     "metadata": {},
     "output_type": "display_data"
    }
   ],
   "source": [
    "state = env.reset()\n",
    "img = env.render() \n",
    "\n",
    "plt.figure(figsize=(4, 6))\n",
    "plt.title(\"Initial State of the Environment\", fontsize=14, pad=20)\n",
    "plt.imshow(img)\n",
    "plt.axis('off')  \n",
    "plt.show()"
   ]
  },
  {
   "cell_type": "markdown",
   "metadata": {},
   "source": [
    "### Characteristics"
   ]
  },
  {
   "cell_type": "markdown",
   "metadata": {},
   "source": [
    "#### Actions"
   ]
  },
  {
   "cell_type": "code",
   "execution_count": 50,
   "metadata": {},
   "outputs": [
    {
     "name": "stdout",
     "output_type": "stream",
     "text": [
      "Action Space\n",
      "Discrete(4)\n",
      "\n",
      "Value   Meaning\n",
      "----------------\n",
      "0       NOOP (No Operation)\n",
      "1       FIRE (Fire the ball)\n",
      "2       RIGHT (Move the paddle right)\n",
      "3       LEFT (Move the paddle left)\n"
     ]
    }
   ],
   "source": [
    "print(\"Action Space\")\n",
    "print(f\"{env.action_space}\") \n",
    "\n",
    "action_mapping = {\n",
    "    0: \"NOOP (No Operation)\",\n",
    "    1: \"FIRE (Fire the ball)\",\n",
    "    2: \"RIGHT (Move the paddle right)\",\n",
    "    3: \"LEFT (Move the paddle left)\"\n",
    "}\n",
    "\n",
    "print(\"\\nValue   Meaning\")\n",
    "print(\"----------------\")\n",
    "for action_value, meaning in action_mapping.items():\n",
    "    print(f\"{action_value}       {meaning}\")\n"
   ]
  },
  {
   "cell_type": "markdown",
   "metadata": {},
   "source": [
    "#### Observations"
   ]
  },
  {
   "cell_type": "code",
   "execution_count": 55,
   "metadata": {},
   "outputs": [
    {
     "name": "stdout",
     "output_type": "stream",
     "text": [
      "Observation Space\n",
      "Box(0, 255, (210, 160, 3), uint8)\n",
      "\n",
      "Type: rgb\n",
      "\n",
      "Description:\n",
      "- Observation Space: Box(0, 255, (210, 160, 3), uint8)\n",
      "- The environment provides an RGB image as an observation with:\n",
      "    - Image size: 210x160 pixels\n",
      "    - 3 color channels (Red, Green, Blue)\n",
      "    - Pixel values range from 0 to 255\n",
      "    - Data type: np.uint8 (unsigned 8-bit integer)\n",
      "\n",
      "Meaning:\n",
      "- The observation consists of a color image of the game screen.\n"
     ]
    }
   ],
   "source": [
    "observation_space = env.observation_space\n",
    "\n",
    "print(\"Observation Space\")\n",
    "print(f\"{env.observation_space}\") \n",
    "\n",
    "print(f\"\\nType: rgb\")\n",
    "print(\"\\nDescription:\")\n",
    "print(f\"- Observation Space: {observation_space}\")\n",
    "print(f\"- The environment provides an RGB image as an observation with:\")\n",
    "print(f\"    - Image size: 210x160 pixels\")\n",
    "print(f\"    - 3 color channels (Red, Green, Blue)\")\n",
    "print(f\"    - Pixel values range from 0 to 255\")\n",
    "print(f\"    - Data type: np.uint8 (unsigned 8-bit integer)\\n\")\n",
    "print(\"Meaning:\")\n",
    "print(f\"- The observation consists of a color image of the game screen.\")"
   ]
  },
  {
   "cell_type": "markdown",
   "metadata": {},
   "source": [
    "#### Rewards"
   ]
  },
  {
   "cell_type": "code",
   "execution_count": 66,
   "metadata": {},
   "outputs": [
    {
     "name": "stdout",
     "output_type": "stream",
     "text": [
      "Reward Range:\n",
      "Value: (-inf, inf)\n",
      "\n",
      "Description:\n",
      "- The reward range specifies the minimum and maximum values that the environment's reward can take.\n",
      "- For the Breakout environment, the reward range is:\n",
      "    - Min reward: -inf (when the agent takes an undesirable action).\n",
      "    - Max reward: inf (when the agent successfully hits the ball or performs other positive actions).\n"
     ]
    }
   ],
   "source": [
    "reward_range = env.reward_range\n",
    "\n",
    "# Display the reward range information\n",
    "print(\"Reward Range:\")\n",
    "print(f\"Value: {reward_range}\")\n",
    "print(\"\\nDescription:\")\n",
    "print(f\"- The reward range specifies the minimum and maximum values that the environment's reward can take.\")\n",
    "print(f\"- For the Breakout environment, the reward range is:\")\n",
    "print(f\"    - Min reward: {reward_range[0]} (when the agent takes an undesirable action).\") \n",
    "print(f\"    - Max reward: {reward_range[1]} (when the agent successfully hits the ball or performs other positive actions).\")"
   ]
  }
 ],
 "metadata": {
  "kernelspec": {
   "display_name": "mina",
   "language": "python",
   "name": "python3"
  },
  "language_info": {
   "codemirror_mode": {
    "name": "ipython",
    "version": 3
   },
   "file_extension": ".py",
   "mimetype": "text/x-python",
   "name": "python",
   "nbconvert_exporter": "python",
   "pygments_lexer": "ipython3",
   "version": "3.11.3"
  }
 },
 "nbformat": 4,
 "nbformat_minor": 2
}
